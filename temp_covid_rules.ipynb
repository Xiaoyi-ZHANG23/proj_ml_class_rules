{
 "cells": [
  {
   "cell_type": "markdown",
   "metadata": {},
   "source": [
    "# Rules of survival\n",
    "\n",
    "### Mini-project\n",
    "\n",
    "In this small project you will use the PRISM Rule Learner algorithm to learn some rules about COVID-19 comorbidity factors. Write as much about your findings as possible. You may add external information/additional datasets for an extra-credit."
   ]
  },
  {
   "cell_type": "markdown",
   "metadata": {},
   "source": [
    "## 1. Algorithm\n",
    "\n",
    "Copy your implementation of the correct and tested algorithm in the cell below. You do not need to supply any comments or explanations. "
   ]
  },
  {
   "cell_type": "code",
   "execution_count": 3,
   "metadata": {},
   "outputs": [],
   "source": [
    "import pandas as pd\n",
    "import numpy as np\n",
    "class Rule:\n",
    "    def __init__(self, class_label):\n",
    "        self.conditions = []  # list of conditions\n",
    "        self.class_label = class_label  # rule class\n",
    "        self.accuracy = 0\n",
    "        self.coverage = 0\n",
    "\n",
    "    def addCondition(self, condition):\n",
    "        self.conditions.append(condition)\n",
    "\n",
    "    def setParams(self, accuracy, coverage):\n",
    "        self.accuracy = accuracy\n",
    "        self.coverage = coverage\n",
    "    \n",
    "    # Human-readable printing of this Rule\n",
    "    def __repr__(self):\n",
    "        return \"If {} then {}. Coverage:{}, accuracy: {}\".format(self.conditions, self.class_label,\n",
    "                                                                 self.coverage, self.accuracy)\n",
    "class Condition:\n",
    "    def __init__(self, attribute, value, true_false = None):\n",
    "        self.attribute = attribute\n",
    "        self.value = value\n",
    "        self.true_false = true_false\n",
    "\n",
    "    def __repr__(self):\n",
    "        if self.true_false is None:\n",
    "            return \"{}={}\".format(self.attribute, self.value)\n",
    "        else:\n",
    "            return \"{}>={}:{}\".format(self.attribute, self.value, self.true_false)\n",
    "        \n",
    "        \n",
    "import pandas as pd\n",
    "import numpy as np\n",
    "def learn_one_rule(column, data, class_label, min_coverage=0, min_accuracy=0.6):\n",
    "    if len(data)==0:\n",
    "        return None\n",
    "    covered_subset = data.copy()\n",
    "    data2 = data.copy()\n",
    "    current_rule = Rule(class_label)\n",
    "    done = False\n",
    "    # filter out data with right labels\n",
    "    classheader = data2.columns[-1]\n",
    "    current_data = data2[data2[classheader] == class_label]\n",
    "\n",
    "    columns = column.copy()\n",
    "    columns.pop()\n",
    "    flag = False\n",
    "    while not done:\n",
    "        current_accuracy = 0\n",
    "        current_coverage = 0\n",
    "        current_condition = Condition(None,None)\n",
    "        index = 0\n",
    "        for i in range(len(columns)):\n",
    "            # make sure I am not repeatedly testing on the same criteria\n",
    "            current_attribute = columns[i]        \n",
    "        \n",
    "            #test every possible value for the current attribute\n",
    "            #check if it is numerical, get unique values, for each value, there is two rules: greater or equal to, or less than\n",
    "            possible_values = current_data[current_attribute].unique().tolist()\n",
    "            if isinstance(possible_values[0], int) or isinstance(possible_values[0],float):\n",
    "                possible_values.sort()\n",
    "            for value in possible_values:\n",
    "                if isinstance(value, int) or isinstance(value,float):\n",
    "                    mycolumn1 = current_data[current_attribute]\n",
    "                    correct1 = mycolumn1[mycolumn1 >= value].count()\n",
    "                    mycolumn2 = data2[current_attribute]\n",
    "                    coverage1 = mycolumn2[mycolumn2 >= value].count()\n",
    "                    if coverage1 == 0:\n",
    "                        accuracy1 = 0\n",
    "                    else:\n",
    "                        accuracy1 = correct1/coverage1\n",
    "                    mycolumn3 = current_data[current_attribute]\n",
    "                    correct = mycolumn3[mycolumn3 <value].count()\n",
    "                    column4 = data2[current_attribute]\n",
    "                    coverage = column4[column4 < value].count()\n",
    "                    if coverage == 0:\n",
    "                        accuracy = 0\n",
    "                    else:\n",
    "                        accuracy = correct/coverage\n",
    "                    GreaterThan = False\n",
    "                    if accuracy1 > accuracy:\n",
    "                        GreaterThan = True\n",
    "                        accuracy = accuracy1\n",
    "                        coverage = coverage1\n",
    "                    elif accuracy1 == accuracy:\n",
    "                        if coverage1 > coverage: \n",
    "                            GreaterThan = True\n",
    "                            coverage = coverage1\n",
    "                    Int = True\n",
    "                    if coverage >= min_coverage:\n",
    "                        if accuracy > current_accuracy:\n",
    "                            index = i\n",
    "                            current_coverage = coverage\n",
    "                            current_accuracy = accuracy\n",
    "                            current_condition= Condition(current_attribute, value, GreaterThan) \n",
    "                            if GreaterThan: \n",
    "                                covered_subset = data2[data2[current_attribute] >= value] \n",
    "                            else:\n",
    "                                covered_subset = data2[data2[current_attribute] < value] \n",
    "                        # if accuracy is the same, compare coverage\n",
    "                        elif accuracy == current_accuracy and coverage > current_coverage:\n",
    "                            index = i\n",
    "                            current_coverage = coverage\n",
    "                            current_accuracy = accuracy\n",
    "                            current_condition= Condition(current_attribute, value,GreaterThan) \n",
    "                            if GreaterThan: \n",
    "                                covered_subset = data2[data2[current_attribute] >= value] \n",
    "                            else:\n",
    "                                covered_subset = data2[data2[current_attribute] < value]\n",
    "                else:\n",
    "                #compute accuracy\n",
    "                    correct = current_data[current_attribute].value_counts()[value]\n",
    "                    coverage = data2[current_attribute].value_counts()[value]\n",
    "                    accuracy = correct/coverage\n",
    "                    #choose the best option based on accuracy\n",
    "                    if coverage >= min_coverage:\n",
    "                        if accuracy > current_accuracy:\n",
    "                            current_coverage = coverage\n",
    "                            current_accuracy = accuracy\n",
    "                            current_condition= Condition(current_attribute, value) \n",
    "                            covered_subset = data2[data2[current_attribute] == value] \n",
    "                            index = i\n",
    "                        # if accuracy is the same, compare coverage\n",
    "                        elif accuracy == current_accuracy and coverage > current_coverage:\n",
    "                            current_coverage = coverage\n",
    "                            current_accuracy = accuracy\n",
    "                            current_condition= Condition(current_attribute, value) \n",
    "                            covered_subset = data2[data2[current_attribute] == value] \n",
    "                            index = i\n",
    "                    #if reached to the end accuracy = 1.0, add to rule and terminate\n",
    "        if current_accuracy == 1.0 and current_coverage > min_coverage:\n",
    "            done = True\n",
    "            current_rule.addCondition(current_condition)\n",
    "            current_rule.accuracy = current_accuracy\n",
    "            current_rule.coverage = current_coverage\n",
    "        #if reached to the end that is acceptable, add to rule and terminate\n",
    "        elif len(columns) == 0: \n",
    "            done = True  \n",
    "            if current_rule.accuracy <= min_accuracy or current_rule.coverage < min_coverage:\n",
    "                return (None, None)\n",
    "\n",
    "        #if no rule possible, return none\n",
    "        elif current_coverage < min_coverage:\n",
    "\n",
    "            if current_rule.accuracy <= min_accuracy or current_rule.coverage < min_coverage:\n",
    "                return (None, None)\n",
    "            done = True                \n",
    "        #default: not done yet, continue\n",
    "        else: \n",
    "            columns.pop(index)\n",
    "            current_rule.addCondition(current_condition)\n",
    "            data2 = covered_subset    \n",
    "            current_data = data2[data2[classheader] == class_label]\n",
    "            current_rule.accuracy = current_accuracy\n",
    "            current_rule.coverage = current_coverage\n",
    "            #reset\n",
    "    return (current_rule, covered_subset)\n",
    "\n",
    "def learn_rules (columns, data, classes=None, \n",
    "                 min_coverage = 30, min_accuracy = 0.6, length = 20):\n",
    "    # List of final rules\n",
    "    rules = []\n",
    "    \n",
    "    # If list of classes of interest is not provided - it is extracted from the last column of data\n",
    "    if classes is not None:\n",
    "        class_labels = classes\n",
    "    else:\n",
    "        class_labels = data[columns[-1]].unique().tolist()\n",
    "    i = 0\n",
    "    current_data = data.copy()\n",
    "    \n",
    "    # This follows the logic of the original PRISM algorithm\n",
    "    # It processes each class in turn. \n",
    "    for class_label in class_labels:\n",
    "        done = False\n",
    "        #do it for the sake for saving some time possibly\n",
    "        if i >= length:\n",
    "            break\n",
    "        while len(current_data) > min_coverage and not done:\n",
    "            if i >= length:\n",
    "                break\n",
    "            # Learn one rule \n",
    "            rule, subset = learn_one_rule(columns, current_data, class_label, min_coverage, min_accuracy)\n",
    "            \n",
    "            # If the best rule does not pass the coverage threshold - we are done with this class\n",
    "            if rule is None:\n",
    "                break\n",
    "            copylabel = class_labels.copy()\n",
    "            copylabel.remove(class_label)\n",
    "            for mylabel in copylabel:\n",
    "                myrule, mysubset = learn_one_rule(columns, current_data, mylabel, min_coverage, min_accuracy)\n",
    "                if myrule is not None and (myrule.accuracy > rule.accuracy or myrule.coverage > rule.coverage):\n",
    "                    rule, subset = myrule, mysubset\n",
    "\n",
    "            # If we get the rule with accuracy and coverage above threshold\n",
    "            \n",
    "            if rule.accuracy >= min_accuracy:\n",
    "                rules.append(rule)\n",
    "                print(rule)\n",
    "                i = i+1\n",
    "                for id in subset.index:\n",
    "                    current_data.drop(index = id, inplace = True)\n",
    "                    current_data = current_data.dropna()\n",
    "                   \n",
    "            else:\n",
    "                done = True \n",
    "\n",
    "                    \n",
    "    return rules\n"
   ]
  },
  {
   "cell_type": "markdown",
   "metadata": {},
   "source": [
    "## 2. Titanic dataset: the rules of survival"
   ]
  },
  {
   "cell_type": "markdown",
   "metadata": {},
   "source": [
    "Our very familiar Titanic [dataset](https://docs.google.com/spreadsheets/d/1QGNxqRU02eAvTGih1t0cErB5R05mdOdUBgJZACGcuvs/edit?usp=sharing)."
   ]
  },
  {
   "cell_type": "code",
   "execution_count": 4,
   "metadata": {},
   "outputs": [],
   "source": [
    "data_file = \"titanic.csv\""
   ]
  },
  {
   "cell_type": "code",
   "execution_count": 5,
   "metadata": {},
   "outputs": [
    {
     "name": "stdout",
     "output_type": "stream",
     "text": [
      "Total rows 714\n",
      "Columns: ['Pclass', 'Sex', 'Age', 'Survived']\n"
     ]
    }
   ],
   "source": [
    "data = pd.read_csv(data_file)\n",
    "\n",
    "# take a subset of attributes\n",
    "data = data[['Pclass', 'Sex', 'Age', 'Survived']]\n",
    "\n",
    "# drop all columns and rows with missing values\n",
    "data = data.dropna(how=\"any\")\n",
    "print(\"Total rows\", len(data))\n",
    "\n",
    "column_list = data.columns.to_numpy().tolist()\n",
    "print(\"Columns:\", column_list)\n",
    "conditions = [ data['Pclass'].eq(1), data['Pclass'].eq(2), data['Pclass'].eq(3)]\n",
    "choices = [\"first\",\"second\",\"third\"]\n",
    "data['Pclass'] = np.select(conditions, choices)\n",
    "bins= [0,1,18,30,110]\n",
    "labels = ['error','kid','younster','old']\n",
    "#data['Age'] = pd.cut(data['Age'], bins=bins, labels=labels, right=False)\n"
   ]
  },
  {
   "cell_type": "code",
   "execution_count": 6,
   "metadata": {},
   "outputs": [
    {
     "name": "stdout",
     "output_type": "stream",
     "text": [
      "If [Sex=female, Pclass=first, Age>=26.0:True] then 1. Coverage:57, accuracy: 0.9824561403508771\n",
      "If [Age>=55.5:True, Sex=male] then 0. Coverage:31, accuracy: 0.8709677419354839\n",
      "If [Sex=male, Pclass=second, Age>=21.0:True] then 0. Coverage:74, accuracy: 0.9459459459459459\n",
      "If [Pclass=second, Age>=28.0:True, Sex=female] then 1. Coverage:41, accuracy: 0.926829268292683\n",
      "If [Age>=39.0:True, Pclass=third, Sex=male] then 0. Coverage:33, accuracy: 0.9090909090909091\n",
      "If [Pclass=third, Age>=34.0:True] then 0. Coverage:35, accuracy: 0.8857142857142857\n",
      "If [Sex=male, Pclass=third, Age>=25.0:False] then 0. Coverage:118, accuracy: 0.847457627118644\n",
      "If [Age>=28.0:True, Pclass=third, Sex=male] then 0. Coverage:50, accuracy: 0.8\n",
      "If [Age>=6.0:False] then 1. Coverage:31, accuracy: 0.8387096774193549\n"
     ]
    }
   ],
   "source": [
    "# we can set different accuracy thresholds\n",
    "# here we can reorder class labels - to first learn the rules with class label \"survived\".\n",
    "# classes\n",
    "rules = learn_rules(column_list, data, [1,0], 30, 0.7,10)\n",
    "for rule in rules[:10]:\n",
    "    print(rule)"
   ]
  },
  {
   "cell_type": "markdown",
   "metadata": {},
   "source": [
    "From the result it seems that it is great to be a wealthy woman, while it is almost always bad to be a man. Also, it seems that really young children have more chance of survival which is a good thing. "
   ]
  },
  {
   "cell_type": "markdown",
   "metadata": {},
   "source": [
    "## 3. Coronavirus: symptoms and outcome"
   ]
  },
  {
   "cell_type": "markdown",
   "metadata": {},
   "source": [
    "Coronavirus [dataset](https://drive.google.com/file/d/1uVd09ekR1ArLrA8qN-Xtu4l-FFbmetVy/view?usp=sharing) (preprocessed as outlined [here](rules_motivation.ipynb))."
   ]
  },
  {
   "cell_type": "code",
   "execution_count": 7,
   "metadata": {},
   "outputs": [],
   "source": [
    "data_file = \"covid_categorical_good.csv\""
   ]
  },
  {
   "cell_type": "code",
   "execution_count": 8,
   "metadata": {},
   "outputs": [
    {
     "data": {
      "text/plain": [
       "Index(['sex', 'age', 'diabetes', 'copd', 'asthma', 'imm_supr', 'hypertension',\n",
       "       'cardiovascular', 'obesity', 'renal_chronic', 'tobacco', 'outcome'],\n",
       "      dtype='object')"
      ]
     },
     "execution_count": 8,
     "metadata": {},
     "output_type": "execute_result"
    }
   ],
   "source": [
    "data = pd.read_csv(data_file)\n",
    "data = data.dropna(how=\"any\")\n",
    "data.columns"
   ]
  },
  {
   "cell_type": "markdown",
   "metadata": {},
   "source": [
    "Most accurate rules will have class label \"alive\". There could be too many rules, and we might never get to the class label \"dead\" if we rank them by accuracy. \n",
    "\n",
    "If we want to see which combination of attributes leads to \"dead\", we might want to run the algorithm with only this class label and set the lower accuracy threshold.\n",
    "\n",
    "Remove the _age_ attribute and run your algorithm with parameters shown below."
   ]
  },
  {
   "cell_type": "code",
   "execution_count": 9,
   "metadata": {},
   "outputs": [
    {
     "name": "stdout",
     "output_type": "stream",
     "text": [
      "If [renal_chronic=yes, diabetes=yes, cardiovascular=yes, obesity=no, sex=male, imm_supr=no, hypertension=yes, asthma=no, tobacco=no, copd=no] then dead. Coverage:58, accuracy: 0.6206896551724138\n",
      "If [renal_chronic=yes, diabetes=yes, obesity=no, copd=yes, asthma=no, hypertension=yes, imm_supr=no, sex=male] then dead. Coverage:30, accuracy: 0.6666666666666666\n"
     ]
    }
   ],
   "source": [
    "# We really want to learn first what makes covid deadly\n",
    "data_categorical = data.copy()\n",
    "data_categorical.drop('age', inplace=True, axis=1)\n",
    "class_labels = [\"dead\"]\n",
    "column_list = data_categorical.columns.to_numpy().tolist()\n",
    "rules = learn_rules (column_list, data_categorical, class_labels, 30, 0.6)\n",
    "for rule in rules[:20]:\n",
    "    print(rule)"
   ]
  },
  {
   "cell_type": "markdown",
   "metadata": {},
   "source": [
    "Now try on both classes and for the entire dataset including _age_. Collect top 20 most accurate rules."
   ]
  },
  {
   "cell_type": "code",
   "execution_count": 10,
   "metadata": {},
   "outputs": [
    {
     "name": "stdout",
     "output_type": "stream",
     "text": [
      "           sex  age diabetes copd asthma imm_supr hypertension cardiovascular  \\\n",
      "0         male   27       no   no     no       no           no             no   \n",
      "1         male   24       no   no     no       no           no             no   \n",
      "2       female   54       no   no     no       no           no             no   \n",
      "3         male   30       no   no     no       no           no             no   \n",
      "4       female   60      yes   no     no       no          yes            yes   \n",
      "...        ...  ...      ...  ...    ...      ...          ...            ...   \n",
      "219174  female   88      yes   no     no       no          yes             no   \n",
      "219175  female   30       no   no     no       no           no             no   \n",
      "219176  female   27       no   no     no       no           no             no   \n",
      "219177  female   36       no   no    yes       no           no             no   \n",
      "219178    male   70       no   no     no       no           no             no   \n",
      "\n",
      "       obesity renal_chronic tobacco outcome  \n",
      "0           no            no      no   alive  \n",
      "1           no            no      no   alive  \n",
      "2          yes            no      no   alive  \n",
      "3           no            no      no   alive  \n",
      "4           no            no      no    dead  \n",
      "...        ...           ...     ...     ...  \n",
      "219174      no            no      no    dead  \n",
      "219175      no            no      no   alive  \n",
      "219176      no            no      no   alive  \n",
      "219177      no            no      no   alive  \n",
      "219178     yes            no      no   alive  \n",
      "\n",
      "[219179 rows x 12 columns]\n"
     ]
    }
   ],
   "source": [
    "#bins= [0,17,29,39,49,64,74,85,125]\n",
    "\n",
    "#labels = ['kid','young adult','29-39','39-49','49-64', '64-74','74-85','85 and above']\n",
    "\n",
    "#data['age'] = pd.cut(data['age'], bins=bins, labels=labels, right=False)\n",
    "print(data)"
   ]
  },
  {
   "cell_type": "code",
   "execution_count": 15,
   "metadata": {},
   "outputs": [],
   "source": [
    "# This may take some time to run (took 12 min on my computer - what about your implementation?)\n",
    "\n",
    "#Todo: either separate to more bins, or implement numerically\n",
    "column_list = data.columns.to_numpy().tolist()\n",
    "rules = learn_rules (column_list, data, None, 30, 0.9,20)\n",
    "for rule in rules[:20]:\n",
    "    print(rule)\n",
    "    #took 3hours"
   ]
  },
  {
   "cell_type": "code",
   "execution_count": null,
   "metadata": {},
   "outputs": [
    {
     "name": "stdout",
     "output_type": "stream",
     "text": [
      "If [hypertension=no, diabetes=no, obesity=no, copd=no, renal_chronic=no, imm_supr=no, cardiovascular=no, sex=male, asthma=no, tobacco=no] then alive. Coverage:63252, accuracy: 0.9117814456459875\n"
     ]
    }
   ],
   "source": [
    "storage = rules.copy()\n",
    "mycoverage = 0\n",
    "myrule = None\n",
    "for rule in storage:\n",
    "    if mycoverage < rule.coverage:\n",
    "        mycoverage = rule.coverage\n",
    "        myrule = rule\n",
    "print(myrule)    "
   ]
  },
  {
   "cell_type": "markdown",
   "metadata": {},
   "source": [
    "## 4. Discussion\n",
    "\n",
    "Write here a discussion about the rules that you have learned from both datasets. \n",
    "\n",
    "Did any of these rules surprise you?\n",
    "\n",
    "Do you have a meaningful logical explanation for these rules?\n",
    "\n",
    "What additional research is needed to understand the meaning of your findings?"
   ]
  },
  {
   "cell_type": "markdown",
   "metadata": {},
   "source": [
    "## Raw Results \n",
    "If [hypertension=no, sex=female, diabetes=no, tobacco=yes, obesity=no, asthma=yes, copd=no, imm_supr=no, renal_chronic=no, cardiovascular=no] then alive. Coverage:87, accuracy: 0.9885057471264368 \n",
    "If [hypertension=no, sex=female, diabetes=no, tobacco=yes, obesity=no, copd=no, cardiovascular=yes] then alive. Coverage:36, accuracy: 1.0  \n",
    "If [hypertension=no, sex=female, diabetes=no, tobacco=yes, obesity=no, copd=no, imm_supr=no, renal_chronic=no, asthma=no, cardiovascular=no] then alive. Coverage:2317, accuracy: 0.9762624082865775    \n",
    "If [hypertension=no, sex=female, diabetes=no, asthma=yes, obesity=no, imm_supr=no, copd=no, cardiovascular=no, tobacco=no, renal_chronic=no] then alive. Coverage:1676, accuracy: 0.9671837708830548    \n",
    "If [hypertension=no, sex=female, diabetes=no, obesity=no, copd=no, imm_supr=no, asthma=yes, tobacco=no] then alive. Coverage:32, accuracy: 0.96875  \n",
    "If [hypertension=no, sex=female, diabetes=no, obesity=no, copd=no, imm_supr=no, renal_chronic=no,  cardiovascular=no, asthma=no, tobacco=no] then alive. Coverage:54563, accuracy: 0.9620255484485823   \n",
    "If [hypertension=no, asthma=yes, diabetes=no, copd=no, imm_supr=no, sex=female, tobacco=no, obesity=yes, renal_chronic=no, cardiovascular=no] then alive. Coverage:525, accuracy: 0.9561904761904761    \n",
    "If [hypertension=no, asthma=yes, diabetes=no, obesity=no, copd=no, imm_supr=no, renal_chronic=no, tobacco=no, cardiovascular=no, sex=male] then alive. Coverage:1161, accuracy: 0.9509043927648578  \n",
    "If [hypertension=no, diabetes=no, sex=female, tobacco=yes, obesity=yes, cardiovascular=no, asthma=yes, renal_chronic=no, copd=no, imm_supr=no] then alive. Coverage:41, accuracy: 0.975609756097561 \n",
    "If [hypertension=no, diabetes=no, sex=female, obesity=yes, tobacco=yes, cardiovascular=no, copd=no, imm_supr=no, asthma=no, renal_chronic=no] then alive. Coverage:841, accuracy: 0.9453032104637337    \n",
    "If [hypertension=no, diabetes=no, sex=female, obesity=yes, copd=no, cardiovascular=no, imm_supr=no, renal_chronic=no, asthma=no, tobacco=no] then alive. Coverage:9803, accuracy: 0.9365500357033562    \n",
    "If [hypertension=no, diabetes=no, obesity=no, tobacco=yes, copd=no, asthma=yes, imm_supr=no, sex=male, renal_chronic=no, cardiovascular=no] then alive. Coverage:100, accuracy: 0.93    \n",
    "If [hypertension=no, diabetes=no, obesity=no, tobacco=yes, copd=no, renal_chronic=no, imm_supr=no, cardiovascular=no, sex=male, asthma=no] then alive. Coverage:5921, accuracy: 0.9211281878061138  \n",
    "If [hypertension=no, diabetes=no, obesity=no, copd=no, renal_chronic=no, imm_supr=no, cardiovascular=no, sex=male, asthma=no, tobacco=no] then alive. Coverage:63252, accuracy: 0.9117814456459875  \n",
    "If [asthma=yes, hypertension=no, cardiovascular=yes, sex=male, renal_chronic=no] then alive. Coverage:31, accuracy: 0.9354838709677419  \n",
    "If [asthma=yes, hypertension=no, obesity=yes, sex=male, tobacco=yes, renal_chronic=no, copd=no, cardiovascular=no, imm_supr=no, diabetes=no] then alive. Coverage:47, accuracy: 0.9574468085106383  \n",
    "If [asthma=yes, hypertension=no, obesity=yes, copd=no, sex=male, diabetes=no, renal_chronic=no, imm_supr=no, cardiovascular=no, tobacco=no] then alive. Coverage:312, accuracy: 0.9166666666666666  \n",
    "\n",
    "## Discussion\n",
    "\n",
    "To begin with, the age did not really work for the covid dataset even though it worked with titanic. I also tried putting age into bins based on CDC 'https://www.cdc.gov/nchs/nvss/vsrr/covid_weekly/index.htm#SexAndAge'. However, in my first implementation I did not include age,so I would first discuss the data without age?    \n",
    "\n",
    "The first thing that seems to be universal is that in order to survive it is better to have  no hypertension. This makes sense as hypertension do have negative effects on health. No diabetes is also universal but it is likely to be caused by the low occurance of diabetes so that it may not be interesting to look at survival rate. When looking at the data for death, it became clear that the diabetes would possibly cause a higher death possiblity. No COPD is also important as it also poses pressure to resporitory system and that would make people more vulunerable to the harm of resporitory diseases. Immune compromise is another universal thing that if immune_compromize is no, there is a higher chance of survival. This is because if immune compromized, then the people is more likely to get other disease and the combination would be harmful/dangerous. No renal_chronic disease is also important to avoid, but due to its later position it isless important than the previous ones. \n",
    "\n",
    "Generally, for people with no obesity the survival rate is higher with more coverage in rules, and it makes sense as obesity would pose more pressure on body and thus the person is more vulunerable to covid. \n",
    "    \n",
    "It is also interesting to see that female tend to have better survival rate, as the coverage is higher for sex = female. This is interesting as I am not expecting there would be a gender difference. Another interetsing aspect is that in some cases cardiovescular = yes would be beneficial. However, this is likely to be coincidental since the coverage is relatively low. The last interesting  aspect is that smoking seems to promote the survival rate and more research should be done on smoking to see if there is anything special that may help to increase the survival rate in covid. "
   ]
  },
  {
   "cell_type": "markdown",
   "metadata": {},
   "source": [
    "Copyright &copy; 2022 Marina Barsky. All rights reserved."
   ]
  },
  {
   "cell_type": "markdown",
   "metadata": {},
   "source": []
  }
 ],
 "metadata": {
  "kernelspec": {
   "display_name": "Python 3 (ipykernel)",
   "language": "python",
   "name": "python3"
  },
  "language_info": {
   "codemirror_mode": {
    "name": "ipython",
    "version": 3
   },
   "file_extension": ".py",
   "mimetype": "text/x-python",
   "name": "python",
   "nbconvert_exporter": "python",
   "pygments_lexer": "ipython3",
   "version": "3.9.10"
  }
 },
 "nbformat": 4,
 "nbformat_minor": 4
}
